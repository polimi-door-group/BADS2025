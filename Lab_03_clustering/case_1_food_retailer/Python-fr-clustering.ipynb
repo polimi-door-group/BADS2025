{
 "cells": [
  {
   "cell_type": "markdown",
   "metadata": {},
   "source": [
    "<h2>Clustering: Food Retailer<h2>"
   ]
  },
  {
   "cell_type": "code",
   "execution_count": null,
   "metadata": {
    "scrolled": true
   },
   "outputs": [],
   "source": [
    "import pandas as pd\n",
    "import numpy as np\n",
    "import matplotlib.pyplot as plt\n",
    "import os\n",
    "os.environ['OMP_NUM_THREADS'] = '1'\n",
    "\n",
    "# Read the data\n",
    "X = pd.read_csv(\"fr_data_final.csv\")\n",
    "X"
   ]
  },
  {
   "cell_type": "markdown",
   "metadata": {},
   "source": [
    "<h3>K-means Clustering (Scikit-Learn)</h3>"
   ]
  },
  {
   "cell_type": "markdown",
   "metadata": {},
   "source": [
    "<b>Select the number of clusters through SSE (elbow method)</b>"
   ]
  },
  {
   "cell_type": "code",
   "execution_count": null,
   "metadata": {},
   "outputs": [],
   "source": [
    "from sklearn.cluster import KMeans\n",
    "\n",
    "# Select the number of clusters by means of SSE\n",
    "SSE = []\n",
    "range_n_clusters = range(2,9)\n",
    "for nclust in range_n_clusters:\n",
    "    # Initialize K-means clustering\n",
    "    km = KMeans(n_clusters=nclust, \n",
    "                init='random', # or 'k-means++'\n",
    "                n_init=10, # n. of times the algorithm is run with different centroid seeds (the best is taken)\n",
    "                max_iter=100, \n",
    "                random_state=0)  # random number generation for seeds initialization (use an int to make the generation deterministic)\n",
    "    # Generate K-means clustering\n",
    "    km.fit(X)\n",
    "    SSE.append(km.inertia_)\n",
    "    \n",
    "plt.plot(range_n_clusters, SSE, marker='o')\n",
    "plt.xlabel('Number of clusters K')\n",
    "plt.ylabel('Sum of Squared Distances (SSE)')\n",
    "plt.show()"
   ]
  },
  {
   "cell_type": "markdown",
   "metadata": {
    "tags": []
   },
   "source": [
    "<b>Select the number of clusters through silhouette-based method</b>"
   ]
  },
  {
   "cell_type": "code",
   "execution_count": null,
   "metadata": {
    "tags": []
   },
   "outputs": [],
   "source": [
    "from sklearn.metrics import silhouette_samples, silhouette_score\n",
    "\n",
    "sil=[]\n",
    "range_n_clusters = range(2,9)\n",
    "for nclust in range_n_clusters:\n",
    "    # Initialize K-means clustering\n",
    "    km = KMeans(n_clusters=nclust, \n",
    "                init='random', # or 'k-means++'\n",
    "                n_init=10, \n",
    "                max_iter=100, \n",
    "                random_state=0)\n",
    "    # Generate K-means clustering\n",
    "    cluster_labels = km.fit_predict(X)\n",
    "    # Compute the average silhouette coefficient\n",
    "    silhouette_avg_coeff = silhouette_score(X, cluster_labels)\n",
    "    sil.append(silhouette_avg_coeff)\n",
    "    \n",
    "plt.plot(range_n_clusters, sil, marker='o')\n",
    "plt.xlabel('Number of clusters K')\n",
    "plt.ylabel('Average silhouette coefficient')\n",
    "plt.show()"
   ]
  },
  {
   "cell_type": "markdown",
   "metadata": {},
   "source": [
    "<b>Display the silhouette plot</b>"
   ]
  },
  {
   "cell_type": "code",
   "execution_count": null,
   "metadata": {
    "tags": []
   },
   "outputs": [],
   "source": [
    "from sklearn.metrics import silhouette_samples, silhouette_score\n",
    "\n",
    "# Select the number of clusters by means of the silohuette coefficient\n",
    "range_n_clusters = range(2,9)\n",
    "for nclust in range_n_clusters:\n",
    "    \n",
    "    # Initialize K-means clustering\n",
    "    km = KMeans(n_clusters=nclust,\n",
    "                init='random',\n",
    "                n_init=10, \n",
    "                max_iter=100,\n",
    "                random_state=0)\n",
    "    \n",
    "    # Generate K-means clustering, compute cluster centers and predict the cluster label for each example\n",
    "    cluster_labels = km.fit_predict(X)\n",
    "    cluster_labels_set = np.unique(cluster_labels)\n",
    "    \n",
    "    # Compute the average silhouette coefficient\n",
    "    silhouette_avg_coeff = silhouette_score(X, cluster_labels)\n",
    "    print(\"N° of clusters =\", nclust, \"-> Average silhouette coefficient: \", silhouette_avg_coeff)\n",
    "    \n",
    "    # Compute the silhouette coefficient for each example\n",
    "    silhouette_example_coeff = silhouette_samples(X, cluster_labels)\n",
    "    \n",
    "    # For the examples belonging to each cluster plot the silhouette coefficient\n",
    "    fig = plt.figure(nclust) \n",
    "    fig.set_size_inches(6,6)\n",
    "    ax1 = fig.add_subplot()\n",
    "    \n",
    "    y_lower = 0\n",
    "    for i in cluster_labels_set:\n",
    "        # Aggregate and sort the silhouette coefficients for the examples belonging to the cluster\n",
    "        cluster_i_silhouette_coeff = silhouette_example_coeff[cluster_labels==i]\n",
    "        cluster_i_silhouette_coeff.sort()\n",
    "        y_upper = y_lower + cluster_i_silhouette_coeff.shape[0]\n",
    "        ax1.fill_betweenx(np.arange(y_lower, y_upper), 0, cluster_i_silhouette_coeff)\n",
    "        ax1.text(-0.05, y_lower + 0.5 * cluster_i_silhouette_coeff.shape[0], str(i))\n",
    "        y_lower = y_upper + 10\n",
    "    \n",
    "    # Enrich the silhouette plot\n",
    "    ax1.axvline(x=silhouette_avg_coeff, color=\"black\", linestyle=\"--\")\n",
    "    ax1.set_xlabel(\"Silhouette Coefficients\")\n",
    "    ax1.set_ylabel(\"Cluster Label\")"
   ]
  },
  {
   "cell_type": "markdown",
   "metadata": {},
   "source": [
    "<b>Generate the clustering model by K-means</b>"
   ]
  },
  {
   "cell_type": "code",
   "execution_count": null,
   "metadata": {},
   "outputs": [],
   "source": [
    "# Generate the final K-means clustering model\n",
    "km = KMeans(n_clusters=3,\n",
    "            init='random',\n",
    "            n_init=10, \n",
    "            max_iter=100,\n",
    "            random_state=0)\n",
    "cluster_labels = km.fit_predict(X)\n",
    "X['Cluster_Label'] = cluster_labels\n",
    "X"
   ]
  },
  {
   "cell_type": "code",
   "execution_count": null,
   "metadata": {},
   "outputs": [],
   "source": [
    "plt.scatter(X.values[:,5],X.values[:,6],c=cluster_labels)\n",
    "plt.xlabel(\"Wine\")\n",
    "plt.ylabel(\"Frozen\")\n",
    "plt.show()"
   ]
  },
  {
   "cell_type": "markdown",
   "metadata": {},
   "source": [
    "<b>Agglomerative Hierarchical Clustering (SciPy and Scikit-Learn)</b>"
   ]
  },
  {
   "cell_type": "code",
   "execution_count": null,
   "metadata": {
    "tags": []
   },
   "outputs": [],
   "source": [
    "from scipy.cluster.hierarchy import dendrogram, linkage\n",
    "\n",
    "# Compute the linkage matrix\n",
    "linkage_matrix = linkage(X, metric='euclidean', method='ward')\n",
    "\n",
    "plt.figure(figsize=(10,6))\n",
    "plt.title('Hierarchical Clustering Dendrogram')\n",
    "# Show only the last p merged clusters in the dendogram\n",
    "dendrogram(linkage_matrix, truncate_mode='lastp', p=12)\n",
    "plt.show()"
   ]
  },
  {
   "cell_type": "code",
   "execution_count": null,
   "metadata": {
    "tags": []
   },
   "outputs": [],
   "source": [
    "# Get the clusters\n",
    "from scipy.cluster.hierarchy import fcluster\n",
    "num_clusters = 3\n",
    "clusters = fcluster(linkage_matrix, num_clusters, criterion='maxclust')\n",
    "clusters"
   ]
  },
  {
   "cell_type": "markdown",
   "metadata": {},
   "source": [
    "<b>...What is the linkage matrix? </b>"
   ]
  },
  {
   "cell_type": "code",
   "execution_count": null,
   "metadata": {},
   "outputs": [],
   "source": [
    "X_subsample = X.head(5)\n",
    "X_subsample"
   ]
  },
  {
   "cell_type": "code",
   "execution_count": null,
   "metadata": {},
   "outputs": [],
   "source": [
    "linkage_matrix = linkage(X_subsample, metric='euclidean', method='ward')\n",
    "linkage_matrix"
   ]
  },
  {
   "cell_type": "code",
   "execution_count": null,
   "metadata": {},
   "outputs": [],
   "source": [
    "linkage_matrix_df = pd.DataFrame(linkage_matrix, columns = ['N° cluster (or point)','N° cluster (or point)','Distance', 'Cluster Size'])\n",
    "linkage_matrix_df"
   ]
  },
  {
   "cell_type": "code",
   "execution_count": null,
   "metadata": {},
   "outputs": [],
   "source": [
    "from sklearn.cluster import AgglomerativeClustering\n",
    "\n",
    "# Initialize the hierarchical clustering algorithm\n",
    "# affinity -> 'euclidean', 'manhattan', 'cosine' or 'precomputed' (similarity matrix)\n",
    "# linkage -> ‘ward’ (default), ‘complete’, ‘average’, ‘single’\n",
    "hc = AgglomerativeClustering(metric='euclidean', linkage='ward', n_clusters=3)\n",
    "# Generate hierarchical clustering and predict the cluster label for each example\n",
    "cluster_labels = hc.fit_predict(X)\n",
    "X['Cluster_Label'] = cluster_labels\n",
    "X"
   ]
  },
  {
   "cell_type": "markdown",
   "metadata": {},
   "source": [
    "<b>Density-Based Clustering -> DBSCAN (Scikit-Learn)</b>"
   ]
  },
  {
   "cell_type": "code",
   "execution_count": null,
   "metadata": {},
   "outputs": [],
   "source": [
    "from sklearn.cluster import DBSCAN\n",
    "\n",
    "# Initialize the density-based clustering algorithm\n",
    "# From scikit-learn: [‘cityblock’, ‘cosine’, ‘euclidean’, ‘l1’, ‘l2’, ‘manhattan’]\n",
    "# From scipy.spatial.distance [‘braycurtis’, ‘canberra’, ‘chebyshev’, ‘correlation’, ‘dice’, ‘hamming’, ‘jaccard’, ‘kulsinski’, \n",
    "# ‘mahalanobis’, ‘minkowski’, ‘rogerstanimoto’, ‘russellrao’, ‘seuclidean’, ‘sokalmichener’, \n",
    "#‘sokalsneath’, ‘sqeuclidean’, ‘yule’]\n",
    "dbs = DBSCAN(eps=0.5, min_samples=5, metric='euclidean')\n",
    "# Generate density-based clustering and predict the cluster label for each example\n",
    "cluster_labels = dbs.fit_predict(X)\n",
    "X['Cluster_Label'] = cluster_labels\n",
    "X"
   ]
  },
  {
   "cell_type": "code",
   "execution_count": null,
   "metadata": {},
   "outputs": [],
   "source": [
    "cluster_labels"
   ]
  },
  {
   "cell_type": "code",
   "execution_count": null,
   "metadata": {},
   "outputs": [],
   "source": []
  }
 ],
 "metadata": {
  "kernelspec": {
   "display_name": "Python 3 (ipykernel)",
   "language": "python",
   "name": "python3"
  },
  "language_info": {
   "codemirror_mode": {
    "name": "ipython",
    "version": 3
   },
   "file_extension": ".py",
   "mimetype": "text/x-python",
   "name": "python",
   "nbconvert_exporter": "python",
   "pygments_lexer": "ipython3",
   "version": "3.10.11"
  }
 },
 "nbformat": 4,
 "nbformat_minor": 4
}
