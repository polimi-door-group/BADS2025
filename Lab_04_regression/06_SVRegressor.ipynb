{
  "cells": [
    {
      "cell_type": "markdown",
      "metadata": {
        "id": "thRTobdXqQJd"
      },
      "source": [
        "# Support Vector Regression"
      ]
    },
    {
      "cell_type": "code",
      "execution_count": 1,
      "metadata": {
        "id": "xTFMxxpxqQJg"
      },
      "outputs": [],
      "source": [
        "#Boston Housing Dataset: Load the boston dataset.\n",
        "import pandas as pd\n",
        "\n",
        "import pickle\n",
        "with open('boston.pkl', 'rb') as file:\n",
        "    boston = pickle.load(file)\n",
        "\n",
        "import numpy as np\n",
        "boston.data = np.delete(boston.data, obj=11, axis=1)\n",
        "boston.feature_names = np.delete(boston.feature_names, obj=11, axis=0)\n",
        "\n",
        "#Creating feature and target arrays\n",
        "X, y = boston.data, boston.target\n",
        "columns = boston.feature_names\n",
        "\n",
        "X=X[y<50]\n",
        "y=y[y<50]\n",
        "\n",
        "from sklearn.preprocessing import StandardScaler\n",
        "scaler = StandardScaler(copy=False).fit(X)\n",
        "scaler.transform(X)\n",
        "\n",
        "from sklearn.model_selection import train_test_split\n",
        "\n",
        "X_train, X_test, y_train, y_test = train_test_split(X,y,\n",
        "                                                    test_size=0.3,\n",
        "                                                    random_state=42)"
      ]
    },
    {
      "cell_type": "markdown",
      "metadata": {
        "id": "4gAW3KAcqQJh"
      },
      "source": [
        "## The Optimization Problem\n",
        "\n",
        "$$\n",
        "\\begin{align}\\begin{aligned}\\min_ {w, b, \\zeta, \\zeta^*} \\frac{1}{2} ||w||^2 + C \\sum_{i=1}^{n} (\\zeta_i + \\zeta_i^*)\\\\\\begin{split}\\textrm {subject to } & y_i - (w^T \\phi (x_i) + b) \\leq \\varepsilon + \\zeta_i,\\\\\n",
        "                      & (w^T \\phi (x_i) + b) - y_i \\leq \\varepsilon + \\zeta_i^*,\\\\\n",
        "                      & \\zeta_i, \\zeta_i^* \\geq 0, i=1, ..., n\\end{split}\\end{aligned}\\end{align}\n",
        "$$\n",
        "\n",
        "where $\\phi$ is the kernel map that can be chosen as\n",
        " - linear: $\\langle x, x'\\rangle$\n",
        " - poly: $(\\gamma \\langle x, x'\\rangle + r)^d$ where $\\gamma,\\, d ,\\, r$ are specified by keyword gamma, degree and coef0 respectively.\n",
        " - rbf - radial basis function: $\\exp(-\\gamma \\|x-x'\\|^2)$\n",
        " - neural networks (sigmoid): $\\tanh(\\gamma \\langle x,x'\\rangle + r)$"
      ]
    },
    {
      "cell_type": "code",
      "execution_count": 2,
      "metadata": {
        "id": "-XEXEaBjqQJi",
        "outputId": "93cf614d-7e15-431a-a322-d88ce34f7354",
        "colab": {
          "base_uri": "https://localhost:8080/"
        }
      },
      "outputs": [
        {
          "output_type": "stream",
          "name": "stdout",
          "text": [
            "Fitting 3 folds for each of 9 candidates, totalling 27 fits\n",
            "[CV 1/3; 1/9] START C=10, degree=2, epsilon=0.01, gamma=auto, kernel=linear.....\n",
            "[CV 1/3; 1/9] END C=10, degree=2, epsilon=0.01, gamma=auto, kernel=linear;, score=-3.322 total time=   0.2s\n",
            "[CV 2/3; 1/9] START C=10, degree=2, epsilon=0.01, gamma=auto, kernel=linear.....\n",
            "[CV 2/3; 1/9] END C=10, degree=2, epsilon=0.01, gamma=auto, kernel=linear;, score=-2.857 total time=   0.2s\n",
            "[CV 3/3; 1/9] START C=10, degree=2, epsilon=0.01, gamma=auto, kernel=linear.....\n",
            "[CV 3/3; 1/9] END C=10, degree=2, epsilon=0.01, gamma=auto, kernel=linear;, score=-2.748 total time=   0.1s\n",
            "[CV 1/3; 2/9] START C=10, degree=2, epsilon=0.01, gamma=auto, kernel=poly.......\n",
            "[CV 1/3; 2/9] END C=10, degree=2, epsilon=0.01, gamma=auto, kernel=poly;, score=-3.653 total time=   0.0s\n",
            "[CV 2/3; 2/9] START C=10, degree=2, epsilon=0.01, gamma=auto, kernel=poly.......\n",
            "[CV 2/3; 2/9] END C=10, degree=2, epsilon=0.01, gamma=auto, kernel=poly;, score=-3.558 total time=   0.1s\n",
            "[CV 3/3; 2/9] START C=10, degree=2, epsilon=0.01, gamma=auto, kernel=poly.......\n",
            "[CV 3/3; 2/9] END C=10, degree=2, epsilon=0.01, gamma=auto, kernel=poly;, score=-3.537 total time=   0.1s\n",
            "[CV 1/3; 3/9] START C=10, degree=2, epsilon=0.01, gamma=auto, kernel=rbf........\n",
            "[CV 1/3; 3/9] END C=10, degree=2, epsilon=0.01, gamma=auto, kernel=rbf;, score=-2.404 total time=   0.1s\n",
            "[CV 2/3; 3/9] START C=10, degree=2, epsilon=0.01, gamma=auto, kernel=rbf........\n",
            "[CV 2/3; 3/9] END C=10, degree=2, epsilon=0.01, gamma=auto, kernel=rbf;, score=-2.167 total time=   0.1s\n",
            "[CV 3/3; 3/9] START C=10, degree=2, epsilon=0.01, gamma=auto, kernel=rbf........\n",
            "[CV 3/3; 3/9] END C=10, degree=2, epsilon=0.01, gamma=auto, kernel=rbf;, score=-1.789 total time=   0.1s\n",
            "[CV 1/3; 4/9] START C=10, degree=3, epsilon=0.01, gamma=auto, kernel=linear.....\n",
            "[CV 1/3; 4/9] END C=10, degree=3, epsilon=0.01, gamma=auto, kernel=linear;, score=-3.322 total time=   0.1s\n",
            "[CV 2/3; 4/9] START C=10, degree=3, epsilon=0.01, gamma=auto, kernel=linear.....\n",
            "[CV 2/3; 4/9] END C=10, degree=3, epsilon=0.01, gamma=auto, kernel=linear;, score=-2.857 total time=   0.5s\n",
            "[CV 3/3; 4/9] START C=10, degree=3, epsilon=0.01, gamma=auto, kernel=linear.....\n",
            "[CV 3/3; 4/9] END C=10, degree=3, epsilon=0.01, gamma=auto, kernel=linear;, score=-2.748 total time=   0.1s\n",
            "[CV 1/3; 5/9] START C=10, degree=3, epsilon=0.01, gamma=auto, kernel=poly.......\n",
            "[CV 1/3; 5/9] END C=10, degree=3, epsilon=0.01, gamma=auto, kernel=poly;, score=-3.560 total time=   0.1s\n",
            "[CV 2/3; 5/9] START C=10, degree=3, epsilon=0.01, gamma=auto, kernel=poly.......\n",
            "[CV 2/3; 5/9] END C=10, degree=3, epsilon=0.01, gamma=auto, kernel=poly;, score=-2.766 total time=   0.1s\n",
            "[CV 3/3; 5/9] START C=10, degree=3, epsilon=0.01, gamma=auto, kernel=poly.......\n",
            "[CV 3/3; 5/9] END C=10, degree=3, epsilon=0.01, gamma=auto, kernel=poly;, score=-2.578 total time=   0.1s\n",
            "[CV 1/3; 6/9] START C=10, degree=3, epsilon=0.01, gamma=auto, kernel=rbf........\n",
            "[CV 1/3; 6/9] END C=10, degree=3, epsilon=0.01, gamma=auto, kernel=rbf;, score=-2.404 total time=   0.1s\n",
            "[CV 2/3; 6/9] START C=10, degree=3, epsilon=0.01, gamma=auto, kernel=rbf........\n",
            "[CV 2/3; 6/9] END C=10, degree=3, epsilon=0.01, gamma=auto, kernel=rbf;, score=-2.167 total time=   0.1s\n",
            "[CV 3/3; 6/9] START C=10, degree=3, epsilon=0.01, gamma=auto, kernel=rbf........\n",
            "[CV 3/3; 6/9] END C=10, degree=3, epsilon=0.01, gamma=auto, kernel=rbf;, score=-1.789 total time=   0.0s\n",
            "[CV 1/3; 7/9] START C=10, degree=5, epsilon=0.01, gamma=auto, kernel=linear.....\n",
            "[CV 1/3; 7/9] END C=10, degree=5, epsilon=0.01, gamma=auto, kernel=linear;, score=-3.322 total time=   0.1s\n",
            "[CV 2/3; 7/9] START C=10, degree=5, epsilon=0.01, gamma=auto, kernel=linear.....\n",
            "[CV 2/3; 7/9] END C=10, degree=5, epsilon=0.01, gamma=auto, kernel=linear;, score=-2.857 total time=   0.2s\n",
            "[CV 3/3; 7/9] START C=10, degree=5, epsilon=0.01, gamma=auto, kernel=linear.....\n",
            "[CV 3/3; 7/9] END C=10, degree=5, epsilon=0.01, gamma=auto, kernel=linear;, score=-2.748 total time=   0.1s\n",
            "[CV 1/3; 8/9] START C=10, degree=5, epsilon=0.01, gamma=auto, kernel=poly.......\n",
            "[CV 1/3; 8/9] END C=10, degree=5, epsilon=0.01, gamma=auto, kernel=poly;, score=-4.822 total time=   0.1s\n",
            "[CV 2/3; 8/9] START C=10, degree=5, epsilon=0.01, gamma=auto, kernel=poly.......\n",
            "[CV 2/3; 8/9] END C=10, degree=5, epsilon=0.01, gamma=auto, kernel=poly;, score=-3.553 total time=   0.1s\n",
            "[CV 3/3; 8/9] START C=10, degree=5, epsilon=0.01, gamma=auto, kernel=poly.......\n",
            "[CV 3/3; 8/9] END C=10, degree=5, epsilon=0.01, gamma=auto, kernel=poly;, score=-2.939 total time=   0.1s\n",
            "[CV 1/3; 9/9] START C=10, degree=5, epsilon=0.01, gamma=auto, kernel=rbf........\n",
            "[CV 1/3; 9/9] END C=10, degree=5, epsilon=0.01, gamma=auto, kernel=rbf;, score=-2.404 total time=   0.1s\n",
            "[CV 2/3; 9/9] START C=10, degree=5, epsilon=0.01, gamma=auto, kernel=rbf........\n",
            "[CV 2/3; 9/9] END C=10, degree=5, epsilon=0.01, gamma=auto, kernel=rbf;, score=-2.167 total time=   0.0s\n",
            "[CV 3/3; 9/9] START C=10, degree=5, epsilon=0.01, gamma=auto, kernel=rbf........\n",
            "[CV 3/3; 9/9] END C=10, degree=5, epsilon=0.01, gamma=auto, kernel=rbf;, score=-1.789 total time=   0.0s\n"
          ]
        }
      ],
      "source": [
        "#DEFINE YOUR REGRESSOR and THE PARAMETERS GRID\n",
        "from sklearn.svm import SVR\n",
        "import numpy as np\n",
        "\n",
        "regressor = SVR()\n",
        "parameters = {'C': [10],\n",
        "             'epsilon': [0.01],\n",
        "             'gamma':['auto'],\n",
        "             'kernel': ['linear', 'poly','rbf'],\n",
        "             'degree': [2,3,5]\n",
        "             }\n",
        "\n",
        "#DEFINE YOUR GRIDSEARCH\n",
        "from sklearn.model_selection import GridSearchCV\n",
        "gs = GridSearchCV(regressor, parameters, cv=3, verbose = 10,scoring ='neg_mean_absolute_error') #with no params it reduces to a CV\n",
        "\n",
        "gs = gs.fit(X_train,y_train)\n"
      ]
    },
    {
      "cell_type": "code",
      "execution_count": 3,
      "metadata": {
        "id": "6UiafpeuqQJj",
        "outputId": "e9086b6e-df97-455f-a1b3-579a380e55c3",
        "colab": {
          "base_uri": "https://localhost:8080/"
        }
      },
      "outputs": [
        {
          "output_type": "stream",
          "name": "stdout",
          "text": [
            "***GRIDSEARCH RESULTS***\n",
            "Best score: -2.119690 using {'C': 10, 'degree': 2, 'epsilon': 0.01, 'gamma': 'auto', 'kernel': 'rbf'}\n",
            "-2.975844 (0.249126) with: {'C': 10, 'degree': 2, 'epsilon': 0.01, 'gamma': 'auto', 'kernel': 'linear'}\n",
            "-3.582561 (0.050199) with: {'C': 10, 'degree': 2, 'epsilon': 0.01, 'gamma': 'auto', 'kernel': 'poly'}\n",
            "-2.119690 (0.253068) with: {'C': 10, 'degree': 2, 'epsilon': 0.01, 'gamma': 'auto', 'kernel': 'rbf'}\n",
            "-2.975844 (0.249126) with: {'C': 10, 'degree': 3, 'epsilon': 0.01, 'gamma': 'auto', 'kernel': 'linear'}\n",
            "-2.967847 (0.425468) with: {'C': 10, 'degree': 3, 'epsilon': 0.01, 'gamma': 'auto', 'kernel': 'poly'}\n",
            "-2.119690 (0.253068) with: {'C': 10, 'degree': 3, 'epsilon': 0.01, 'gamma': 'auto', 'kernel': 'rbf'}\n",
            "-2.975844 (0.249126) with: {'C': 10, 'degree': 5, 'epsilon': 0.01, 'gamma': 'auto', 'kernel': 'linear'}\n",
            "-3.771087 (0.784246) with: {'C': 10, 'degree': 5, 'epsilon': 0.01, 'gamma': 'auto', 'kernel': 'poly'}\n",
            "-2.119690 (0.253068) with: {'C': 10, 'degree': 5, 'epsilon': 0.01, 'gamma': 'auto', 'kernel': 'rbf'}\n"
          ]
        },
        {
          "output_type": "execute_result",
          "data": {
            "text/plain": [
              "-1.947478242070086"
            ]
          },
          "metadata": {},
          "execution_count": 3
        }
      ],
      "source": [
        "#summarize the results of your GRIDSEARCH\n",
        "print('***GRIDSEARCH RESULTS***')\n",
        "print(\"Best score: %f using %s\" % (gs.best_score_, gs.best_params_))\n",
        "means = gs.cv_results_['mean_test_score']\n",
        "stds = gs.cv_results_['std_test_score']\n",
        "params = gs.cv_results_['params']\n",
        "for mean, stdev, param in zip(means, stds, params):\n",
        "    print(\"%f (%f) with: %r\" % (mean, stdev, param))\n",
        "\n",
        "#Returns the coefficient of determination R^2 of the prediction.\n",
        "#Explained variance score: 1 is perfect prediction\n",
        "gs.score(X_test, y_test)"
      ]
    },
    {
      "cell_type": "code",
      "execution_count": 4,
      "metadata": {
        "id": "_-nNeCQwqQJk",
        "outputId": "04e1df6c-5ce4-4487-ae1a-6ce8853f37b9",
        "colab": {
          "base_uri": "https://localhost:8080/",
          "height": 449
        }
      },
      "outputs": [
        {
          "output_type": "display_data",
          "data": {
            "text/plain": [
              "<Figure size 640x480 with 1 Axes>"
            ],
            "image/png": "[encoded data removed]"
          },
          "metadata": {}
        }
      ],
      "source": [
        "%matplotlib inline\n",
        "import matplotlib.pyplot as plt\n",
        "\n",
        "plt.scatter(gs.predict(X_train),gs.predict(X_train)-y_train, c=\"b\", label=\"training data\")\n",
        "plt.scatter(gs.predict(X_test),gs.predict(X_test)-y_test, c=\"g\", label=\"hold out data\")\n",
        "plt.xlabel(\"Predicted Values\")\n",
        "plt.ylabel(\"Residuals\")\n",
        "plt.legend(loc=\"upper left\")\n",
        "plt.hlines(y=0, xmin=-10, xmax=50, color=\"r\")\n",
        "plt.xlim([-10,50])\n",
        "plt.show()"
      ]
    },
    {
      "cell_type": "code",
      "execution_count": 5,
      "metadata": {
        "id": "Zfe66l0zqQJk",
        "outputId": "b31071d2-50d0-4174-ee73-bcb8f91c2b62",
        "colab": {
          "base_uri": "https://localhost:8080/"
        }
      },
      "outputs": [
        {
          "output_type": "stream",
          "name": "stdout",
          "text": [
            "MAE train:  1.4607047813838594\n",
            "MSE train:  5.620555036871485\n",
            "RMSE train:  2.3707709794224083\n",
            "r2:  0.9556748125856116\n",
            "MAE test:  1.947478242070086\n",
            "MSE test:  8.062101735826035\n",
            "RMSE test:  2.839384041623471\n",
            "r2:  0.9200318000820058\n"
          ]
        }
      ],
      "source": [
        "from sklearn import metrics\n",
        "\n",
        "print(\"MAE train: \", metrics.mean_absolute_error(y_train, gs.predict(X_train)))\n",
        "print(\"MSE train: \",metrics.mean_squared_error(y_train, gs.predict(X_train)))\n",
        "print(\"RMSE train: \",np.sqrt(metrics.mean_squared_error(y_train, gs.predict(X_train))))\n",
        "print(\"r2: \",np.sqrt(metrics.r2_score(y_train, gs.predict(X_train))))\n",
        "\n",
        "print(\"MAE test: \", metrics.mean_absolute_error(y_test, gs.predict(X_test)))\n",
        "print(\"MSE test: \",metrics.mean_squared_error(y_test, gs.predict(X_test)))\n",
        "print(\"RMSE test: \",np.sqrt(metrics.mean_squared_error(y_test, gs.predict(X_test))))\n",
        "print(\"r2: \",np.sqrt(metrics.r2_score(y_test, gs.predict(X_test))))"
      ]
    },
    {
      "cell_type": "code",
      "execution_count": 5,
      "metadata": {
        "id": "i6G401srqQJl"
      },
      "outputs": [],
      "source": []
    },
    {
      "cell_type": "code",
      "execution_count": 5,
      "metadata": {
        "id": "ehSbO3gbqQJl"
      },
      "outputs": [],
      "source": []
    },
    {
      "cell_type": "code",
      "execution_count": 5,
      "metadata": {
        "id": "AsHvRkPaqQJn"
      },
      "outputs": [],
      "source": []
    },
    {
      "cell_type": "code",
      "execution_count": 5,
      "metadata": {
        "id": "x9mLuxTJqQJn"
      },
      "outputs": [],
      "source": []
    }
  ],
  "metadata": {
    "kernelspec": {
      "display_name": "base",
      "language": "python",
      "name": "python3"
    },
    "language_info": {
      "codemirror_mode": {
        "name": "ipython",
        "version": 3
      },
      "file_extension": ".py",
      "mimetype": "text/x-python",
      "name": "python",
      "nbconvert_exporter": "python",
      "pygments_lexer": "ipython3",
      "version": "3.12.2"
    },
    "colab": {
      "provenance": []
    }
  },
  "nbformat": 4,
  "nbformat_minor": 0
}