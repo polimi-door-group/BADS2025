{
  "cells": [
    {
      "cell_type": "markdown",
      "metadata": {
        "id": "Yx3YeZ1oqRVm"
      },
      "source": [
        "# Multi-layer Perceptron Regression\n",
        "\n",
        "Class MLPRegressor implements a multi-layer perceptron (MLP) that trains using backpropagation with no activation function in the output layer, which can also be seen as using the identity function as activation function. Therefore, it uses the square error as the loss function, and the output is a set of continuous values."
      ]
    },
    {
      "cell_type": "code",
      "execution_count": 1,
      "metadata": {
        "id": "q2X6TCkOqRVn"
      },
      "outputs": [],
      "source": [
        "#Boston Housing Dataset: Load the boston dataset.\n",
        "#from sklearn.datasets import load_boston\n",
        "#boston = load_boston()\n",
        "\n",
        "# Load the dataset\n",
        "import pickle\n",
        "with open('boston.pkl', 'rb') as file:\n",
        "    boston = pickle.load(file)\n",
        "\n",
        "import numpy as np\n",
        "boston.data = np.delete(boston.data, obj=11, axis=1)\n",
        "boston.feature_names = np.delete(boston.feature_names, obj=11, axis=0)\n",
        "\n",
        "#Creating feature and target arrays\n",
        "X, y = boston.data, boston.target\n",
        "columns = boston.feature_names\n",
        "\n",
        "X=X[y<50]\n",
        "y=y[y<50]\n",
        "\n",
        "from sklearn.preprocessing import StandardScaler\n",
        "scaler = StandardScaler(copy=False).fit(X)\n",
        "scaler.transform(X)\n",
        "\n",
        "'''\n",
        "Multi-layer Perceptron is sensitive to feature scaling, so it is highly recommended to scale your data.\n",
        "For example, scale each attribute on the input vector X to [0, 1] or [-1, +1],\n",
        "or standardize it to have mean 0 and variance 1. Note that you must apply the same scaling\n",
        "to the test set for meaningful results. You can use StandardScaler for standardization.\n",
        "'''\n",
        "\n",
        "from sklearn.model_selection import train_test_split\n",
        "\n",
        "X_train, X_test, y_train, y_test = train_test_split(X,y,\n",
        "                                                    test_size=0.3,\n",
        "                                                    random_state=42)\n",
        "\n",
        "#DEFINE YOUR REGRESSOR and THE PARAMETERS GRID\n",
        "from sklearn.neural_network import MLPRegressor\n",
        "import numpy as np\n",
        "\n",
        "regressor = MLPRegressor(random_state=0)\n",
        "parameters = {'hidden_layer_sizes': [(8),(10, 5), (20,10,5), (10,5,3)],\n",
        "              'solver' : ['sgd'],\n",
        "              #'batch_size': [20],\n",
        "              #'learning_rate' : ['constant'],\n",
        "              'alpha':10.0 ** -np.arange(-1, 3),\n",
        "              'max_iter':[10000]}\n",
        "\n",
        "#DEFINE YOUR GRIDSEARCH\n",
        "from sklearn.model_selection import GridSearchCV\n",
        "gs = GridSearchCV(regressor, parameters, cv=3, verbose = 0) #with no params it reduces to a CV\n",
        "\n",
        "gs = gs.fit(X_train,y_train)"
      ]
    },
    {
      "cell_type": "code",
      "execution_count": 2,
      "metadata": {
        "id": "DIQICFTpqRVp",
        "outputId": "b22a2034-0ae9-424f-d41c-a46e2918af26",
        "colab": {
          "base_uri": "https://localhost:8080/"
        }
      },
      "outputs": [
        {
          "output_type": "stream",
          "name": "stdout",
          "text": [
            "***GRIDSEARCH RESULTS***\n",
            "Best score: 0.867636 using {'alpha': 10.0, 'hidden_layer_sizes': (10, 5), 'max_iter': 10000, 'solver': 'sgd'}\n",
            "0.843588 (0.009673) with: {'alpha': 10.0, 'hidden_layer_sizes': 8, 'max_iter': 10000, 'solver': 'sgd'}\n",
            "0.867636 (0.015551) with: {'alpha': 10.0, 'hidden_layer_sizes': (10, 5), 'max_iter': 10000, 'solver': 'sgd'}\n",
            "0.863531 (0.022159) with: {'alpha': 10.0, 'hidden_layer_sizes': (20, 10, 5), 'max_iter': 10000, 'solver': 'sgd'}\n",
            "-0.000622 (0.000493) with: {'alpha': 10.0, 'hidden_layer_sizes': (10, 5, 3), 'max_iter': 10000, 'solver': 'sgd'}\n",
            "0.842235 (0.014951) with: {'alpha': 1.0, 'hidden_layer_sizes': 8, 'max_iter': 10000, 'solver': 'sgd'}\n",
            "0.854178 (0.013450) with: {'alpha': 1.0, 'hidden_layer_sizes': (10, 5), 'max_iter': 10000, 'solver': 'sgd'}\n",
            "0.861313 (0.021049) with: {'alpha': 1.0, 'hidden_layer_sizes': (20, 10, 5), 'max_iter': 10000, 'solver': 'sgd'}\n",
            "-0.000317 (0.000227) with: {'alpha': 1.0, 'hidden_layer_sizes': (10, 5, 3), 'max_iter': 10000, 'solver': 'sgd'}\n",
            "0.843894 (0.016329) with: {'alpha': 0.1, 'hidden_layer_sizes': 8, 'max_iter': 10000, 'solver': 'sgd'}\n",
            "0.850045 (0.010208) with: {'alpha': 0.1, 'hidden_layer_sizes': (10, 5), 'max_iter': 10000, 'solver': 'sgd'}\n",
            "0.851546 (0.014996) with: {'alpha': 0.1, 'hidden_layer_sizes': (20, 10, 5), 'max_iter': 10000, 'solver': 'sgd'}\n",
            "-0.000273 (0.000175) with: {'alpha': 0.1, 'hidden_layer_sizes': (10, 5, 3), 'max_iter': 10000, 'solver': 'sgd'}\n",
            "0.842290 (0.014972) with: {'alpha': 0.01, 'hidden_layer_sizes': 8, 'max_iter': 10000, 'solver': 'sgd'}\n",
            "0.849878 (0.010390) with: {'alpha': 0.01, 'hidden_layer_sizes': (10, 5), 'max_iter': 10000, 'solver': 'sgd'}\n",
            "0.853130 (0.016564) with: {'alpha': 0.01, 'hidden_layer_sizes': (20, 10, 5), 'max_iter': 10000, 'solver': 'sgd'}\n",
            "-0.000284 (0.000184) with: {'alpha': 0.01, 'hidden_layer_sizes': (10, 5, 3), 'max_iter': 10000, 'solver': 'sgd'}\n"
          ]
        },
        {
          "output_type": "execute_result",
          "data": {
            "text/plain": [
              "0.8764420251596372"
            ]
          },
          "metadata": {},
          "execution_count": 2
        }
      ],
      "source": [
        "#summarize the results of your GRIDSEARCH\n",
        "print('***GRIDSEARCH RESULTS***')\n",
        "print(\"Best score: %f using %s\" % (gs.best_score_, gs.best_params_))\n",
        "means = gs.cv_results_['mean_test_score']\n",
        "stds = gs.cv_results_['std_test_score']\n",
        "params = gs.cv_results_['params']\n",
        "for mean, stdev, param in zip(means, stds, params):\n",
        "    print(\"%f (%f) with: %r\" % (mean, stdev, param))\n",
        "\n",
        "#Returns the coefficient of determination R^2 of the prediction.\n",
        "#Explained variance score: 1 is perfect prediction\n",
        "gs.score(X_test, y_test)"
      ]
    },
    {
      "cell_type": "code",
      "execution_count": 3,
      "metadata": {
        "id": "Kx9-MCP3qRVp",
        "outputId": "a9adbb7a-2ccd-4276-c031-32f2e3d37f45",
        "colab": {
          "base_uri": "https://localhost:8080/",
          "height": 449
        }
      },
      "outputs": [
        {
          "output_type": "display_data",
          "data": {
            "text/plain": [
              "<Figure size 640x480 with 1 Axes>"
            ],
            "image/png": "[encoded data removed]"
          },
          "metadata": {}
        }
      ],
      "source": [
        "%matplotlib inline\n",
        "import matplotlib.pyplot as plt\n",
        "plt.scatter(gs.predict(X_train),gs.predict(X_train)-y_train, c=\"b\", label=\"training data\")\n",
        "plt.scatter(gs.predict(X_test),gs.predict(X_test)-y_test, c=\"g\", label=\"test data\")\n",
        "plt.xlabel(\"Predicted Values\")\n",
        "plt.ylabel(\"Residuals\")\n",
        "plt.legend(loc=\"upper left\")\n",
        "plt.hlines(y=0, xmin=-10, xmax=50, color=\"r\")\n",
        "plt.xlim([-10,50])\n",
        "plt.show()"
      ]
    },
    {
      "cell_type": "code",
      "execution_count": 4,
      "metadata": {
        "id": "OFF1kj39qRVr",
        "outputId": "00e37ded-071c-4fd7-f43e-1b2ee8a62b50",
        "colab": {
          "base_uri": "https://localhost:8080/"
        }
      },
      "outputs": [
        {
          "output_type": "stream",
          "name": "stdout",
          "text": [
            "MAE train:  1.6226275486234818\n",
            "MSE train:  4.70673057836705\n",
            "RMSE train:  2.1695000756780467\n",
            "r2:  0.9630203708962601\n",
            "MAE test:  1.8919927431892833\n",
            "MSE test:  6.4877381608759155\n",
            "RMSE test:  2.547103877127102\n",
            "r2:  0.9361848242519407\n"
          ]
        }
      ],
      "source": [
        "from sklearn import metrics\n",
        "\n",
        "print(\"MAE train: \", metrics.mean_absolute_error(y_train, gs.predict(X_train)))\n",
        "print(\"MSE train: \",metrics.mean_squared_error(y_train, gs.predict(X_train)))\n",
        "print(\"RMSE train: \",np.sqrt(metrics.mean_squared_error(y_train, gs.predict(X_train))))\n",
        "print(\"r2: \",np.sqrt(metrics.r2_score(y_train, gs.predict(X_train))))\n",
        "\n",
        "print(\"MAE test: \", metrics.mean_absolute_error(y_test, gs.predict(X_test)))\n",
        "print(\"MSE test: \",metrics.mean_squared_error(y_test, gs.predict(X_test)))\n",
        "print(\"RMSE test: \",np.sqrt(metrics.mean_squared_error(y_test, gs.predict(X_test))))\n",
        "print(\"r2: \",np.sqrt(metrics.r2_score(y_test, gs.predict(X_test))))"
      ]
    },
    {
      "cell_type": "code",
      "execution_count": 5,
      "metadata": {
        "id": "5yuC7OUfqRVr",
        "outputId": "08a38ca5-f6db-4720-cd88-7046e2eff9d1",
        "colab": {
          "base_uri": "https://localhost:8080/",
          "height": 300
        }
      },
      "outputs": [
        {
          "output_type": "execute_result",
          "data": {
            "text/plain": [
              "                0\n",
              "count  343.000000\n",
              "mean    -0.040369\n",
              "std      2.172293\n",
              "min     -8.740104\n",
              "25%     -1.198438\n",
              "50%      0.115413\n",
              "75%      1.377822\n",
              "max      6.531517"
            ],
            "text/html": [
              "\n",
              "  <div id=\"df-c4e27356-701f-469a-814d-231209823b3b\" class=\"colab-df-container\">\n",
              "    <div>\n",
              "<style scoped>\n",
              "    .dataframe tbody tr th:only-of-type {\n",
              "        vertical-align: middle;\n",
              "    }\n",
              "\n",
              "    .dataframe tbody tr th {\n",
              "        vertical-align: top;\n",
              "    }\n",
              "\n",
              "    .dataframe thead th {\n",
              "        text-align: right;\n",
              "    }\n",
              "</style>\n",
              "<table border=\"1\" class=\"dataframe\">\n",
              "  <thead>\n",
              "    <tr style=\"text-align: right;\">\n",
              "      <th></th>\n",
              "      <th>0</th>\n",
              "    </tr>\n",
              "  </thead>\n",
              "  <tbody>\n",
              "    <tr>\n",
              "      <th>count</th>\n",
              "      <td>343.000000</td>\n",
              "    </tr>\n",
              "    <tr>\n",
              "      <th>mean</th>\n",
              "      <td>-0.040369</td>\n",
              "    </tr>\n",
              "    <tr>\n",
              "      <th>std</th>\n",
              "      <td>2.172293</td>\n",
              "    </tr>\n",
              "    <tr>\n",
              "      <th>min</th>\n",
              "      <td>-8.740104</td>\n",
              "    </tr>\n",
              "    <tr>\n",
              "      <th>25%</th>\n",
              "      <td>-1.198438</td>\n",
              "    </tr>\n",
              "    <tr>\n",
              "      <th>50%</th>\n",
              "      <td>0.115413</td>\n",
              "    </tr>\n",
              "    <tr>\n",
              "      <th>75%</th>\n",
              "      <td>1.377822</td>\n",
              "    </tr>\n",
              "    <tr>\n",
              "      <th>max</th>\n",
              "      <td>6.531517</td>\n",
              "    </tr>\n",
              "  </tbody>\n",
              "</table>\n",
              "</div>\n",
              "    <div class=\"colab-df-buttons\">\n",
              "\n",
              "  <div class=\"colab-df-container\">\n",
              "    <button class=\"colab-df-convert\" onclick=\"convertToInteractive('df-c4e27356-701f-469a-814d-231209823b3b')\"\n",
              "            title=\"Convert this dataframe to an interactive table.\"\n",
              "            style=\"display:none;\">\n",
              "\n",
              "  <svg xmlns=\"http://www.w3.org/2000/svg\" height=\"24px\" viewBox=\"0 -960 960 960\">\n",
              "    <path d=\"M120-120v-720h720v720H120Zm60-500h600v-160H180v160Zm220 220h160v-160H400v160Zm0 220h160v-160H400v160ZM180-400h160v-160H180v160Zm440 0h160v-160H620v160ZM180-180h160v-160H180v160Zm440 0h160v-160H620v160Z\"/>\n",
              "  </svg>\n",
              "    </button>\n",
              "\n",
              "  <style>\n",
              "    .colab-df-container {\n",
              "      display:flex;\n",
              "      gap: 12px;\n",
              "    }\n",
              "\n",
              "    .colab-df-convert {\n",
              "      background-color: #E8F0FE;\n",
              "      border: none;\n",
              "      border-radius: 50%;\n",
              "      cursor: pointer;\n",
              "      display: none;\n",
              "      fill: #1967D2;\n",
              "      height: 32px;\n",
              "      padding: 0 0 0 0;\n",
              "      width: 32px;\n",
              "    }\n",
              "\n",
              "    .colab-df-convert:hover {\n",
              "      background-color: #E2EBFA;\n",
              "      box-shadow: 0px 1px 2px rgba(60, 64, 67, 0.3), 0px 1px 3px 1px rgba(60, 64, 67, 0.15);\n",
              "      fill: #174EA6;\n",
              "    }\n",
              "\n",
              "    .colab-df-buttons div {\n",
              "      margin-bottom: 4px;\n",
              "    }\n",
              "\n",
              "    [theme=dark] .colab-df-convert {\n",
              "      background-color: #3B4455;\n",
              "      fill: #D2E3FC;\n",
              "    }\n",
              "\n",
              "    [theme=dark] .colab-df-convert:hover {\n",
              "      background-color: #434B5C;\n",
              "      box-shadow: 0px 1px 3px 1px rgba(0, 0, 0, 0.15);\n",
              "      filter: drop-shadow(0px 1px 2px rgba(0, 0, 0, 0.3));\n",
              "      fill: #FFFFFF;\n",
              "    }\n",
              "  </style>\n",
              "\n",
              "    <script>\n",
              "      const buttonEl =\n",
              "        document.querySelector('#df-c4e27356-701f-469a-814d-231209823b3b button.colab-df-convert');\n",
              "      buttonEl.style.display =\n",
              "        google.colab.kernel.accessAllowed ? 'block' : 'none';\n",
              "\n",
              "      async function convertToInteractive(key) {\n",
              "        const element = document.querySelector('#df-c4e27356-701f-469a-814d-231209823b3b');\n",
              "        const dataTable =\n",
              "          await google.colab.kernel.invokeFunction('convertToInteractive',\n",
              "                                                    [key], {});\n",
              "        if (!dataTable) return;\n",
              "\n",
              "        const docLinkHtml = 'Like what you see? Visit the ' +\n",
              "          '<a target=\"_blank\" href=https://colab.research.google.com/notebooks/data_table.ipynb>data table notebook</a>'\n",
              "          + ' to learn more about interactive tables.';\n",
              "        element.innerHTML = '';\n",
              "        dataTable['output_type'] = 'display_data';\n",
              "        await google.colab.output.renderOutput(dataTable, element);\n",
              "        const docLink = document.createElement('div');\n",
              "        docLink.innerHTML = docLinkHtml;\n",
              "        element.appendChild(docLink);\n",
              "      }\n",
              "    </script>\n",
              "  </div>\n",
              "\n",
              "\n",
              "<div id=\"df-3ad4e258-65e8-416f-8b50-6c6f5c443cdb\">\n",
              "  <button class=\"colab-df-quickchart\" onclick=\"quickchart('df-3ad4e258-65e8-416f-8b50-6c6f5c443cdb')\"\n",
              "            title=\"Suggest charts\"\n",
              "            style=\"display:none;\">\n",
              "\n",
              "<svg xmlns=\"http://www.w3.org/2000/svg\" height=\"24px\"viewBox=\"0 0 24 24\"\n",
              "     width=\"24px\">\n",
              "    <g>\n",
              "        <path d=\"M19 3H5c-1.1 0-2 .9-2 2v14c0 1.1.9 2 2 2h14c1.1 0 2-.9 2-2V5c0-1.1-.9-2-2-2zM9 17H7v-7h2v7zm4 0h-2V7h2v10zm4 0h-2v-4h2v4z\"/>\n",
              "    </g>\n",
              "</svg>\n",
              "  </button>\n",
              "\n",
              "<style>\n",
              "  .colab-df-quickchart {\n",
              "      --bg-color: #E8F0FE;\n",
              "      --fill-color: #1967D2;\n",
              "      --hover-bg-color: #E2EBFA;\n",
              "      --hover-fill-color: #174EA6;\n",
              "      --disabled-fill-color: #AAA;\n",
              "      --disabled-bg-color: #DDD;\n",
              "  }\n",
              "\n",
              "  [theme=dark] .colab-df-quickchart {\n",
              "      --bg-color: #3B4455;\n",
              "      --fill-color: #D2E3FC;\n",
              "      --hover-bg-color: #434B5C;\n",
              "      --hover-fill-color: #FFFFFF;\n",
              "      --disabled-bg-color: #3B4455;\n",
              "      --disabled-fill-color: #666;\n",
              "  }\n",
              "\n",
              "  .colab-df-quickchart {\n",
              "    background-color: var(--bg-color);\n",
              "    border: none;\n",
              "    border-radius: 50%;\n",
              "    cursor: pointer;\n",
              "    display: none;\n",
              "    fill: var(--fill-color);\n",
              "    height: 32px;\n",
              "    padding: 0;\n",
              "    width: 32px;\n",
              "  }\n",
              "\n",
              "  .colab-df-quickchart:hover {\n",
              "    background-color: var(--hover-bg-color);\n",
              "    box-shadow: 0 1px 2px rgba(60, 64, 67, 0.3), 0 1px 3px 1px rgba(60, 64, 67, 0.15);\n",
              "    fill: var(--button-hover-fill-color);\n",
              "  }\n",
              "\n",
              "  .colab-df-quickchart-complete:disabled,\n",
              "  .colab-df-quickchart-complete:disabled:hover {\n",
              "    background-color: var(--disabled-bg-color);\n",
              "    fill: var(--disabled-fill-color);\n",
              "    box-shadow: none;\n",
              "  }\n",
              "\n",
              "  .colab-df-spinner {\n",
              "    border: 2px solid var(--fill-color);\n",
              "    border-color: transparent;\n",
              "    border-bottom-color: var(--fill-color);\n",
              "    animation:\n",
              "      spin 1s steps(1) infinite;\n",
              "  }\n",
              "\n",
              "  @keyframes spin {\n",
              "    0% {\n",
              "      border-color: transparent;\n",
              "      border-bottom-color: var(--fill-color);\n",
              "      border-left-color: var(--fill-color);\n",
              "    }\n",
              "    20% {\n",
              "      border-color: transparent;\n",
              "      border-left-color: var(--fill-color);\n",
              "      border-top-color: var(--fill-color);\n",
              "    }\n",
              "    30% {\n",
              "      border-color: transparent;\n",
              "      border-left-color: var(--fill-color);\n",
              "      border-top-color: var(--fill-color);\n",
              "      border-right-color: var(--fill-color);\n",
              "    }\n",
              "    40% {\n",
              "      border-color: transparent;\n",
              "      border-right-color: var(--fill-color);\n",
              "      border-top-color: var(--fill-color);\n",
              "    }\n",
              "    60% {\n",
              "      border-color: transparent;\n",
              "      border-right-color: var(--fill-color);\n",
              "    }\n",
              "    80% {\n",
              "      border-color: transparent;\n",
              "      border-right-color: var(--fill-color);\n",
              "      border-bottom-color: var(--fill-color);\n",
              "    }\n",
              "    90% {\n",
              "      border-color: transparent;\n",
              "      border-bottom-color: var(--fill-color);\n",
              "    }\n",
              "  }\n",
              "</style>\n",
              "\n",
              "  <script>\n",
              "    async function quickchart(key) {\n",
              "      const quickchartButtonEl =\n",
              "        document.querySelector('#' + key + ' button');\n",
              "      quickchartButtonEl.disabled = true;  // To prevent multiple clicks.\n",
              "      quickchartButtonEl.classList.add('colab-df-spinner');\n",
              "      try {\n",
              "        const charts = await google.colab.kernel.invokeFunction(\n",
              "            'suggestCharts', [key], {});\n",
              "      } catch (error) {\n",
              "        console.error('Error during call to suggestCharts:', error);\n",
              "      }\n",
              "      quickchartButtonEl.classList.remove('colab-df-spinner');\n",
              "      quickchartButtonEl.classList.add('colab-df-quickchart-complete');\n",
              "    }\n",
              "    (() => {\n",
              "      let quickchartButtonEl =\n",
              "        document.querySelector('#df-3ad4e258-65e8-416f-8b50-6c6f5c443cdb button');\n",
              "      quickchartButtonEl.style.display =\n",
              "        google.colab.kernel.accessAllowed ? 'block' : 'none';\n",
              "    })();\n",
              "  </script>\n",
              "</div>\n",
              "\n",
              "    </div>\n",
              "  </div>\n"
            ],
            "application/vnd.google.colaboratory.intrinsic+json": {
              "type": "dataframe",
              "summary": "{\n  \"name\": \"pd\",\n  \"rows\": 8,\n  \"fields\": [\n    {\n      \"column\": 0,\n      \"properties\": {\n        \"dtype\": \"number\",\n        \"std\": 121.33264934770096,\n        \"min\": -8.740103646086649,\n        \"max\": 343.0,\n        \"num_unique_values\": 8,\n        \"samples\": [\n          -0.04036872893996905,\n          0.11541257153997364,\n          343.0\n        ],\n        \"semantic_type\": \"\",\n        \"description\": \"\"\n      }\n    }\n  ]\n}"
            }
          },
          "metadata": {},
          "execution_count": 5
        }
      ],
      "source": [
        "import pandas as pd\n",
        "\n",
        "error_train=gs.predict(X_train)-y_train\n",
        "error_test=gs.predict(X_test)-y_test\n",
        "\n",
        "pd.DataFrame(error_train).describe()"
      ]
    },
    {
      "cell_type": "code",
      "execution_count": 6,
      "metadata": {
        "id": "fjX4AFNvqRVs"
      },
      "outputs": [],
      "source": [
        "nb_error_train = np.array(error_train).flatten()\n",
        "\n",
        "error_train = np.array(error_train).reshape(-1,1)\n",
        "scaled_error_train= StandardScaler(copy=False).fit(error_train).transform(error_train).flatten()"
      ]
    },
    {
      "cell_type": "code",
      "execution_count": 7,
      "metadata": {
        "id": "wZ1gti9KqRVs",
        "outputId": "ed5ee961-469d-4fe1-b07f-b1edf117c38a",
        "colab": {
          "base_uri": "https://localhost:8080/",
          "height": 447
        }
      },
      "outputs": [
        {
          "output_type": "execute_result",
          "data": {
            "text/plain": [
              "<matplotlib.legend.Legend at 0x7a228d5292d0>"
            ]
          },
          "metadata": {},
          "execution_count": 7
        },
        {
          "output_type": "display_data",
          "data": {
            "text/plain": [
              "<Figure size 640x480 with 1 Axes>"
            ],
            "image/png": "[encoded data removed]"
          },
          "metadata": {}
        }
      ],
      "source": [
        "import numpy as np\n",
        "import scipy\n",
        "import statsmodels.api as sm\n",
        "from statsmodels.graphics.gofplots import qqplot_2samples\n",
        "from matplotlib import pyplot as plt\n",
        "import seaborn as sns\n",
        "\n",
        "\n",
        "# We test a exponential distribution\n",
        "dist = getattr(scipy.stats, 'norm')\n",
        "param = dist.fit(nb_error_train)\n",
        "\n",
        "err_mean=param[-2]\n",
        "err_std=param[-1]\n",
        "\n",
        "# We generate a sample of size  len(mr_scaled) of data distributed according to distribution dist\n",
        "# The function rvs generates a sample with distribution dist with mean loc and std scale\n",
        "test_dist = dist.rvs(*param[0:-2],loc=param[-2], scale=param[-1],size = len(nb_error_train))\n",
        "\n",
        "\n",
        "# plot the distribution and compare with a normal\n",
        "\n",
        "ax = sns.histplot(nb_error_train, stat='density')\n",
        "\n",
        "# calculate the pdf\n",
        "x0, x1 = ax.get_xlim()  # extract the endpoints for the x-axis\n",
        "x_pdf = np.linspace(x0, x1, 100)\n",
        "y_pdf = scipy.stats.norm.pdf(x_pdf, loc=err_mean, scale=err_std)\n",
        "\n",
        "ax.plot(x_pdf, y_pdf, 'r', lw=2, label='normal')\n",
        "ax.legend()\n",
        "\n",
        "#plt.hist(nb_error_train,alpha=.3, density=True,bins='auto')\n",
        "#plt.hist(test_dist,alpha=.3, density=True,bins='auto')\n",
        "#plt.show()"
      ]
    },
    {
      "cell_type": "code",
      "execution_count": 7,
      "metadata": {
        "id": "nEHYMaEvqRVt"
      },
      "outputs": [],
      "source": []
    }
  ],
  "metadata": {
    "kernelspec": {
      "display_name": "base",
      "language": "python",
      "name": "python3"
    },
    "language_info": {
      "codemirror_mode": {
        "name": "ipython",
        "version": 3
      },
      "file_extension": ".py",
      "mimetype": "text/x-python",
      "name": "python",
      "nbconvert_exporter": "python",
      "pygments_lexer": "ipython3",
      "version": "3.12.2"
    },
    "colab": {
      "provenance": []
    }
  },
  "nbformat": 4,
  "nbformat_minor": 0
}